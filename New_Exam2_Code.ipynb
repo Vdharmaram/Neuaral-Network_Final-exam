{
  "cells": [
    {
      "cell_type": "markdown",
      "metadata": {
        "id": "view-in-github",
        "colab_type": "text"
      },
      "source": [
        "<a href=\"https://colab.research.google.com/github/Vdharmaram/Neuaral-Network_Final-exam/blob/main/New_Exam2_Code.ipynb\" target=\"_parent\"><img src=\"https://colab.research.google.com/assets/colab-badge.svg\" alt=\"Open In Colab\"/></a>"
      ]
    },
    {
      "cell_type": "code",
      "execution_count": 5,
      "id": "8164cf46",
      "metadata": {
        "id": "8164cf46"
      },
      "outputs": [],
      "source": [
        "\n",
        "import numpy as np\n",
        "import matplotlib.pyplot as plt\n",
        "import seaborn as sns\n",
        "from sklearn.metrics import confusion_matrix, classification_report\n",
        "from tensorflow.keras.datasets import fashion_mnist\n",
        "from tensorflow.keras.models import Sequential\n",
        "from tensorflow.keras.layers import Conv2D, MaxPooling2D, Flatten, Dense, Dropout\n",
        "from tensorflow.keras.utils import to_categorical\n",
        "from tensorflow.keras.callbacks import ReduceLROnPlateau\n",
        "from tensorflow.keras.optimizers import Adam, SGD\n",
        "import itertools\n"
      ]
    },
    {
      "cell_type": "code",
      "execution_count": 6,
      "id": "698771f9",
      "metadata": {
        "id": "698771f9"
      },
      "outputs": [],
      "source": [
        "\n",
        "(x_train, y_train), (x_test, y_test) = fashion_mnist.load_data()\n",
        "\n",
        "# Normalize\n",
        "x_train = x_train.astype('float32') / 255.0\n",
        "x_test = x_test.astype('float32') / 255.0\n",
        "\n",
        "# Reshape\n",
        "x_train = np.expand_dims(x_train, -1)\n",
        "x_test = np.expand_dims(x_test, -1)\n",
        "\n",
        "# One-hot encode\n",
        "y_train_cat = to_categorical(y_train, 10)\n",
        "y_test_cat = to_categorical(y_test, 10)\n"
      ]
    },
    {
      "cell_type": "code",
      "execution_count": 7,
      "id": "6ca731b1",
      "metadata": {
        "id": "6ca731b1"
      },
      "outputs": [],
      "source": [
        "\n",
        "def build_model(optimizer='adam'):\n",
        "    model = Sequential([\n",
        "        Conv2D(32, (3, 3), activation='relu', input_shape=(28, 28, 1)),\n",
        "        MaxPooling2D(2, 2),\n",
        "        Dropout(0.3),\n",
        "        Conv2D(64, (3, 3), activation='relu'),\n",
        "        MaxPooling2D(2, 2),\n",
        "        Dropout(0.3),\n",
        "        Flatten(),\n",
        "        Dense(128, activation='relu'),\n",
        "        Dropout(0.5),\n",
        "        Dense(10, activation='softmax')\n",
        "    ])\n",
        "    model.compile(optimizer=optimizer,\n",
        "                  loss='categorical_crossentropy',\n",
        "                  metrics=['accuracy'])\n",
        "    return model\n"
      ]
    },
    {
      "cell_type": "code",
      "execution_count": null,
      "id": "e4ce237b",
      "metadata": {
        "colab": {
          "base_uri": "https://localhost:8080/"
        },
        "id": "e4ce237b",
        "outputId": "50dcdbe1-b8e7-415f-afe2-6f01bfd77769"
      },
      "outputs": [
        {
          "output_type": "stream",
          "name": "stdout",
          "text": [
            "Training with adam, lr=0.001, batch_size=64\n"
          ]
        }
      ],
      "source": [
        "\n",
        "learning_rates = [0.001, 0.0005]\n",
        "batch_sizes = [64, 128]\n",
        "optimizers = {'adam': Adam, 'sgd': SGD}\n",
        "\n",
        "best_val_acc = 0\n",
        "best_history = None\n",
        "best_model = None\n",
        "\n",
        "for lr in learning_rates:\n",
        "    for bs in batch_sizes:\n",
        "        for name, opt_class in optimizers.items():\n",
        "            print(f\"Training with {name}, lr={lr}, batch_size={bs}\")\n",
        "            model = build_model(opt_class(learning_rate=lr))\n",
        "            rlrop = ReduceLROnPlateau(monitor='val_loss', patience=3, factor=0.5, verbose=1)\n",
        "            history = model.fit(x_train, y_train_cat,\n",
        "                                epochs=15,\n",
        "                                batch_size=bs,\n",
        "                                validation_split=0.2,\n",
        "                                callbacks=[rlrop],\n",
        "                                verbose=0)\n",
        "            val_acc = history.history['val_accuracy'][-1]\n",
        "            if val_acc > best_val_acc:\n",
        "                best_val_acc = val_acc\n",
        "                best_history = history\n",
        "                best_model = model\n"
      ]
    },
    {
      "cell_type": "code",
      "execution_count": null,
      "id": "767759d0",
      "metadata": {
        "id": "767759d0"
      },
      "outputs": [],
      "source": [
        "\n",
        "y_pred = best_model.predict(x_test)\n",
        "y_pred_classes = np.argmax(y_pred, axis=1)\n",
        "\n",
        "cm = confusion_matrix(y_test, y_pred_classes)\n",
        "\n",
        "plt.figure(figsize=(8,6))\n",
        "sns.heatmap(cm, annot=True, fmt='d', cmap='Blues')\n",
        "plt.title(\"Confusion Matrix\")\n",
        "plt.xlabel(\"Predicted\")\n",
        "plt.ylabel(\"True\")\n",
        "plt.show()\n"
      ]
    },
    {
      "cell_type": "code",
      "execution_count": null,
      "id": "db47f332",
      "metadata": {
        "id": "db47f332"
      },
      "outputs": [],
      "source": [
        "\n",
        "history = best_history\n",
        "\n",
        "plt.figure(figsize=(12, 5))\n",
        "\n",
        "plt.subplot(1, 2, 1)\n",
        "plt.plot(history.history['loss'], label='Train Loss')\n",
        "plt.plot(history.history['val_loss'], label='Val Loss')\n",
        "plt.title('Loss over epochs')\n",
        "plt.xlabel('Epochs')\n",
        "plt.ylabel('Loss')\n",
        "plt.legend()\n",
        "\n",
        "plt.subplot(1, 2, 2)\n",
        "plt.plot(history.history['accuracy'], label='Train Acc')\n",
        "plt.plot(history.history['val_accuracy'], label='Val Acc')\n",
        "plt.title('Accuracy over epochs')\n",
        "plt.xlabel('Epochs')\n",
        "plt.ylabel('Accuracy')\n",
        "plt.legend()\n",
        "\n",
        "plt.tight_layout()\n",
        "plt.show()\n"
      ]
    },
    {
      "cell_type": "code",
      "execution_count": null,
      "id": "b3b1d360",
      "metadata": {
        "id": "b3b1d360"
      },
      "outputs": [],
      "source": [
        "\n",
        "fig, axes = plt.subplots(1, 5, figsize=(15, 4))\n",
        "for i, ax in enumerate(axes):\n",
        "    ax.imshow(x_test[i].squeeze(), cmap='gray')\n",
        "    ax.set_title(f\"True: {y_test[i]}, Pred: {y_pred_classes[i]}\")\n",
        "    ax.axis('off')\n",
        "plt.suptitle(\"Sample Predictions\")\n",
        "plt.show()\n"
      ]
    },
    {
      "cell_type": "code",
      "execution_count": null,
      "id": "c431b4ca",
      "metadata": {
        "id": "c431b4ca"
      },
      "outputs": [],
      "source": [
        "\n",
        "from collections import defaultdict\n",
        "\n",
        "class_correct = defaultdict(int)\n",
        "class_total = defaultdict(int)\n",
        "\n",
        "for i in range(len(y_test)):\n",
        "    label = y_test[i]\n",
        "    pred = y_pred_classes[i]\n",
        "    class_total[label] += 1\n",
        "    if label == pred:\n",
        "        class_correct[label] += 1\n",
        "\n",
        "labels = [f\"{i}\" for i in range(10)]\n",
        "accuracy_per_class = [class_correct[i] / class_total[i] for i in range(10)]\n",
        "\n",
        "plt.figure(figsize=(10, 6))\n",
        "sns.barplot(x=labels, y=accuracy_per_class)\n",
        "plt.title(\"Accuracy per Class\")\n",
        "plt.xlabel(\"Class Label\")\n",
        "plt.ylabel(\"Accuracy\")\n",
        "plt.ylim(0, 1)\n",
        "plt.show()\n"
      ]
    }
  ],
  "metadata": {
    "colab": {
      "provenance": [],
      "include_colab_link": true
    },
    "language_info": {
      "name": "python"
    },
    "kernelspec": {
      "name": "python3",
      "display_name": "Python 3"
    }
  },
  "nbformat": 4,
  "nbformat_minor": 5
}